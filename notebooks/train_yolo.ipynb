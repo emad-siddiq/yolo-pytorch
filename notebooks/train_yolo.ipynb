{
 "cells": [
  {
   "cell_type": "markdown",
   "metadata": {
    "id": "setup"
   },
   "source": [
    "# YOLO Training in Google Colab\n",
    "\n",
    "This notebook demonstrates how to train the YOLO model using Google Colab's GPU."
   ]
  },
  {
   "cell_type": "code",
   "execution_count": null,
   "metadata": {},
   "outputs": [],
   "source": [
    "# Clone repository\n",
    "!git clone https://github.com/emad-siddiq/yolo-pytorch.git\n",
    "%cd yolo-pytorch\n",
    "\n",
    "# Install requirements\n",
    "!pip install -r requirements.txt\n",
    "\n",
    "# Add to Python path\n",
    "import sys\n",
    "sys.path.append('/content/yolo-pytorch')"
   ]
  },
  {
   "cell_type": "code",
   "execution_count": null,
   "metadata": {},
   "outputs": [],
   "source": [
    "# Import necessary modules\n",
    "from src.models.yolo import YOLOv1\n",
    "from src.models.loss import YOLOLoss\n",
    "from src.data.dataset import YOLODataset\n",
    "from src.utils.train import train_yolo\n",
    "from src.config import Config\n",
    "\n",
    "import torch\n",
    "from torch.utils.data import DataLoader"
   ]
  },
  {
   "cell_type": "code",
   "execution_count": null,
   "metadata": {},
   "outputs": [],
   "source": [
    "# Mount Google Drive (optional, for saving weights)\n",
    "from google.colab import drive\n",
    "drive.mount('/content/drive')"
   ]
  },
  {
   "cell_type": "code",
   "execution_count": null,
   "metadata": {},
   "outputs": [],
   "source": [
    "# Initialize model and move to GPU\n",
    "model = YOLOv1(\n",
    "    split_size=Config.GRID_SIZE,\n",
    "    num_boxes=Config.NUM_BOXES,\n",
    "    num_classes=Config.NUM_CLASSES\n",
    ").to(Config.DEVICE)\n",
    "\n",
    "# Initialize loss and optimizer\n",
    "criterion = YOLOLoss()\n",
    "optimizer = torch.optim.Adam(\n",
    "    model.parameters(),\n",
    "    lr=Config.LEARNING_RATE,\n",
    "    weight_decay=Config.WEIGHT_DECAY\n",
    ")"
   ]
  },
  {
   "cell_type": "code",
   "execution_count": null,
   "metadata": {},
   "outputs": [],
   "source": [
    "# Create datasets and dataloaders\n",
    "train_dataset = YOLODataset(\n",
    "    Config.TRAIN_DIR,\n",
    "    S=Config.GRID_SIZE,\n",
    "    B=Config.NUM_BOXES,\n",
    "    C=Config.NUM_CLASSES\n",
    ")\n",
    "\n",
    "train_loader = DataLoader(\n",
    "    train_dataset,\n",
    "    batch_size=Config.BATCH_SIZE,\n",
    "    shuffle=True,\n",
    "    num_workers=2,\n",
    "    pin_memory=True\n",
    ")"
   ]
  },
  {
   "cell_type": "code",
   "execution_count": null,
   "metadata": {},
   "outputs": [],
   "source": [
    "# Train the model\n",
    "train_yolo(\n",
    "    model,\n",
    "    train_loader,\n",
    "    criterion,\n",
    "    optimizer,\n",
    "    Config.EPOCHS,\n",
    "    Config.DEVICE\n",
    ")"
   ]
  },
  {
   "cell_type": "code",
   "execution_count": null,
   "metadata": {},
   "outputs": [],
   "source": [
    "# Save model weights\n",
    "torch.save(model.state_dict(), 'data/weights/yolo_model.pth')\n",
    "\n",
    "# Save to Google Drive (optional)\n",
    "# !cp data/weights/yolo_model.pth '/content/drive/MyDrive/yolo_model.pth'"
   ]
  },
  {
   "cell_type": "code",
   "execution_count": null,
   "metadata": {},
   "outputs": [],
   "source": [
    "# Commit and push changes to GitHub\n",
    "!git add .\n",
    "!git commit -m \"Update model weights and training results\"\n",
    "!git push origin main"
   ]
  }
 ],
 "metadata": {
  "accelerator": "GPU",
  "colab": {
   "gpuType": "T4",
   "provenance": []
  },
  "kernelspec": {
   "display_name": "Python 3",
   "name": "python3"
  },
  "language_info": {
   "name": "python"
  }
 },
 "nbformat": 4,
 "nbformat_minor": 0
}

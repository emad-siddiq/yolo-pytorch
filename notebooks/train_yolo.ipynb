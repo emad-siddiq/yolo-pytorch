{
 "cells": [
  {
   "cell_type": "markdown",
   "metadata": {
    "id": "setup"
   },
   "source": [
    "# YOLO Training in Google Colab\n",
    "\n",
    "This notebook demonstrates how to train the YOLO model using Google Colab's GPU."
   ]
  },
  {
   "cell_type": "code",
   "execution_count": null,
   "metadata": {},
   "outputs": [],
   "source": [
    "# Clone repository\n",
    "!git clone https://github.com/yourusername/yolo-pytorch.git\n",
    "%cd yolo-pytorch\n",
    "\n",
    "# Install requirements\n",
    "!pip install -r requirements.txt\n",
    "\n",
    "# Add to Python path\n",
    "import sys\n",
    "sys.path.append('/content/yolo-pytorch')"
   ]
  },
  {
   "cell_type": "code",
   "execution_count": null,
   "metadata": {},
   "outputs": [],
   "source": [
    "# Download VOC dataset (adjust URL as needed)\n",
    "!wget http://host.robots.ox.ac.uk/pascal/VOC/voc2012/VOCtrainval_11-May-2012.tar\n",
    "!tar -xvf VOCtrainval_11-May-2012.tar\n",
    "\n",
    "# Create dataset directories\n",
    "!mkdir -p data/raw data/processed/train data/processed/val data/weights"
   ]
  },
  {
   "cell_type": "code",
   "execution_count": null,
   "metadata": {},
   "outputs": [],
   "source": [
    "from src.scripts.convert_voc_to_yolo import main as convert_dataset\n",
    "convert_dataset()"
   ]
  },
  {
   "cell_type": "code",
   "execution_count": null,
   "metadata": {},
   "outputs": [],
   "source": [
    "from src.utils.train import main as train_model\n",
    "train_model()"
   ]
  },
  {
   "cell_type": "code",
   "execution_count": null,
   "metadata": {},
   "outputs": [],
   "source": [
    "!pytest tests/"
   ]
  },
  {
   "cell_type": "code",
   "execution_count": null,
   "metadata": {},
   "outputs": [],
   "source": [
    "from src.utils.predict import YOLOPredictor\n",
    "\n",
    "# Initialize predictor\n",
    "predictor = YOLOPredictor(\n",
    "    model_path='data/weights/best_model.pth',\n",
    "    conf_threshold=0.5,\n",
    "    nms_threshold=0.4\n",
    ")\n",
    "\n",
    "# Predict on an image\n",
    "image_path = 'path/to/your/test/image.jpg'\n",
    "detections, annotated_image = predictor.predict(image_path)\n",
    "\n",
    "# Display results\n",
    "from matplotlib import pyplot as plt\n",
    "plt.imshow(annotated_image)\n",
    "plt.axis('off')\n",
    "plt.show()"
   ]
  },
  {
   "cell_type": "code",
   "execution_count": null,
   "metadata": {},
   "outputs": [],
   "source": [
    "# Commit and push changes to GitHub\n",
    "!git add .\n",
    "!git commit -m \"Update model weights and training results\"\n",
    "!git push origin main"
   ]
  }
 ],
 "metadata": {
  "accelerator": "GPU",
  "colab": {
   "gpuType": "T4",
   "provenance": []
  },
  "kernelspec": {
   "display_name": "Python 3",
   "name": "python3"
  },
  "language_info": {
   "name": "python"
  }
 },
 "nbformat": 4,
 "nbformat_minor": 0
}
